{
 "cells": [
  {
   "cell_type": "code",
   "execution_count": 1,
   "metadata": {},
   "outputs": [],
   "source": [
    "import matplotlib.pyplot as plt\n",
    "import numpy as np\n",
    "import heapq\n",
    "import logging\n",
    "import sys\n",
    "import time\n",
    "import math\n",
    "from capper import Reads\n",
    "import capper"
   ]
  },
  {
   "cell_type": "code",
   "execution_count": 2,
   "metadata": {},
   "outputs": [
    {
     "name": "stdout",
     "output_type": "stream",
     "text": [
      "Got  40181  in  23.59861183166504  seconds\n"
     ]
    }
   ],
   "source": [
    "start_time = time.time()\n",
    "# Parse the 1kg reads\n",
    "reads_1kg_small = Reads(\"minimizers_1kg_single/minimizers_correct\",\n",
    "              \"minimizers_1kg_single/minimizers_incorrect\",\n",
    "              max_correct_reads=10000)\n",
    "print(\"Got \", len(reads_1kg_small.reads), \" in \", time.time() - start_time, \" seconds\")"
   ]
  },
  {
   "cell_type": "code",
   "execution_count": 3,
   "metadata": {},
   "outputs": [
    {
     "name": "stdout",
     "output_type": "stream",
     "text": [
      "Got  66684  in  36.01137089729309  seconds\n"
     ]
    }
   ],
   "source": [
    "start_time = time.time()\n",
    "# Parse the hgsvc reads\n",
    "reads_hgsvc_small = Reads(\"minimizers_hgsvc_single/minimizers_correct\",\n",
    "              \"minimizers_hgsvc_single/minimizers_incorrect\",\n",
    "              max_correct_reads=10000)\n",
    "print(\"Got \", len(reads_hgsvc_small.reads), \" in \", time.time() - start_time, \" seconds\")"
   ]
  },
  {
   "cell_type": "code",
   "execution_count": 4,
   "metadata": {},
   "outputs": [],
   "source": [
    "def current_cap(r):\n",
    "    \"\"\"\n",
    "    if r.xian_cap != p_inf:\n",
    "        print(\"what\", r.capped_map_q, int(min(r.uncapped_map_q, r.xian_cap, r.vg_computed_cap, 60)), r.uncapped_map_q, r.xian_cap, r.vg_computed_cap)\n",
    "    if r.capped_map_q != int(min(r.uncapped_map_q, r.xian_cap, r.vg_computed_cap, 60)):\n",
    "        print(\"wait\", r.capped_map_q, int(min(r.uncapped_map_q, r.xian_cap, r.vg_computed_cap, 60)),\n",
    "                r.uncapped_map_q, r.xian_cap, r.vg_computed_cap)\n",
    "    \"\"\"\n",
    "    return r.capped_map_q  # round(min(r.uncapped_map_q, f(r.xian_cap), r.vg_computed_cap, 60))"
   ]
  },
  {
   "cell_type": "code",
   "execution_count": 156,
   "metadata": {
    "scrolled": true
   },
   "outputs": [
    {
     "data": {
      "image/png": "[encoded data removed]",
      "text/plain": [
       "<Figure size 432x288 with 1 Axes>"
      ]
     },
     "metadata": {
      "needs_background": "light"
     },
     "output_type": "display_data"
    },
    {
     "data": {
      "image/png": "[encoded data removed]",
      "text/plain": [
       "<Figure size 432x288 with 1 Axes>"
      ]
     },
     "metadata": {
      "needs_background": "light"
     },
     "output_type": "display_data"
    },
    {
     "name": "stdout",
     "output_type": "stream",
     "text": [
      " Took  0.6715519428253174  seconds\n"
     ]
    }
   ],
   "source": [
    "## Make the small plots\n",
    "\n",
    "def calc_map_q(r):\n",
    "    assert(len(r.alignment_scores) > 0)\n",
    "    \n",
    "    if len(r.alignment_scores) == 1:\n",
    "        if r.alignment_scores[0] == 0.0: # Case is unaligned\n",
    "            return 0.0\n",
    "        return 10000 # Case is the only alignment\n",
    "    \n",
    "    x = max(r.alignment_scores)\n",
    "    y = r.alignment_scores[:-1]\n",
    "    s = 1.4 #43429\n",
    "    #secondary_count = len(r.alignment_scores)-1 if len(r.alignment_scores) > 1 else 1\n",
    "    #unexplored_minimizers = r.avg_unexplored_minimizers()\n",
    "    #if unexplored_minimizers < 100:\n",
    "    #    unexplored_minimizers = 0\n",
    "    #unexplored_multiplicity = unexplored_minimizers / secondary_count #math.log10(r.avg_unexplored_minimizers() + 1)\n",
    "    \n",
    "    # Add together the alignment scores, from smallest to largest\n",
    "    p = math.exp(x * s)\n",
    "    for y in r.alignment_scores[:-1]:\n",
    "        p += math.exp(y *s) #* (1.0 + unexplored_multiplicity)\n",
    "    \n",
    "    z = math.exp(x * s) / p\n",
    "    map_q = (-10 * math.log10(1 - z)) if z < 1.0 else 100000\n",
    "    \n",
    "    return map_q # r.uncapped_map_q\n",
    "\n",
    "def proposed_cap(r):    \n",
    "    escape_bonus = 1.0 if r.uncapped_map_q < 1000 else 2.0\n",
    "    \n",
    "    #if r.alignment_score >= 140:\n",
    "    #    escape_bonus += 10\n",
    "    #escape_bonus = 0.0 if total_unexplored_minimizers(r) >= 10 else 20\n",
    "\n",
    "    #escape_bonus = 1.0\n",
    "    #if r.alignment_score >= 140 and (r.uncapped_map_q >= 1000 or r.avg_unexplored_minimizers() <= 100):\n",
    "    #    escape_bonus = 2.0\n",
    "\n",
    "    return round(min(r.faster_cap_precomputed * escape_bonus, calc_map_q(r), 60))\n",
    "\n",
    "def make_rocs(reads):\n",
    "    # Make ROC curves\n",
    "    roc_unmodified = reads.get_roc()\n",
    "    #print(\"Roc unmodified\", roc_unmodified)\n",
    "    roc_adam_modified = reads.get_roc(map_q_fn=current_cap)\n",
    "    #print(\"Roc adam modified \", roc_adam_modified)\n",
    "    start_time = time.time()\n",
    "    roc_new_sum_modified = reads.get_roc(map_q_fn=proposed_cap)\n",
    "    #print(\"Roc mode modified (time:{}) \".format(time.time()-start_time), roc_new_sum_modified)\n",
    "    #Reads.plot_rocs([roc_unmodified, roc_adam_modified, roc_new_sum_modified])\n",
    "    \n",
    "    Reads.plot_rocs([roc_unmodified, roc_adam_modified, roc_new_sum_modified ])\n",
    "\n",
    "start_time = time.time()\n",
    "make_rocs(reads_1kg_small)\n",
    "make_rocs(reads_hgsvc_small)\n",
    "print(\" Took \", time.time() - start_time, \" seconds\")"
   ]
  },
  {
   "cell_type": "code",
   "execution_count": 68,
   "metadata": {},
   "outputs": [
    {
     "name": "stdout",
     "output_type": "stream",
     "text": [
      "Got  2000000  in  1283.0240650177002  seconds\n"
     ]
    }
   ],
   "source": [
    "start_time = time.time()\n",
    "# Parse the hgsvc reads\n",
    "reads_hgsvc = Reads(\"minimizers_hgsvc_single/minimizers_correct\",\n",
    "              \"minimizers_hgsvc_single/minimizers_incorrect\",\n",
    "              max_correct_reads=100000000)\n",
    "print(\"Got \", len(reads_hgsvc.reads), \" in \", time.time() - start_time, \" seconds\")"
   ]
  },
  {
   "cell_type": "code",
   "execution_count": 69,
   "metadata": {},
   "outputs": [
    {
     "name": "stdout",
     "output_type": "stream",
     "text": [
      "Got  2000000  in  1578.219927072525  seconds\n"
     ]
    }
   ],
   "source": [
    "start_time = time.time()\n",
    "# Parse the 1kg reads\n",
    "reads_1kg = Reads(\"minimizers_1kg_single/minimizers_correct\",\n",
    "              \"minimizers_1kg_single/minimizers_incorrect\",\n",
    "              max_correct_reads=100000000)\n",
    "print(\"Got \", len(reads_1kg.reads), \" in \", time.time() - start_time, \" seconds\")"
   ]
  },
  {
   "cell_type": "code",
   "execution_count": 157,
   "metadata": {},
   "outputs": [
    {
     "data": {
      "image/png": "[encoded data removed]",
      "text/plain": [
       "<Figure size 432x288 with 1 Axes>"
      ]
     },
     "metadata": {
      "needs_background": "light"
     },
     "output_type": "display_data"
    },
    {
     "data": {
      "image/png": "[encoded data removed]",
      "text/plain": [
       "<Figure size 432x288 with 1 Axes>"
      ]
     },
     "metadata": {
      "needs_background": "light"
     },
     "output_type": "display_data"
    },
    {
     "name": "stdout",
     "output_type": "stream",
     "text": [
      " Took  51.756744146347046  seconds\n"
     ]
    }
   ],
   "source": [
    "## Make the big plots\n",
    "\n",
    "start_time = time.time()\n",
    "make_rocs(reads_1kg)\n",
    "make_rocs(reads_hgsvc)\n",
    "print(\" Took \", time.time() - start_time, \" seconds\")"
   ]
  },
  {
   "cell_type": "code",
   "execution_count": 131,
   "metadata": {},
   "outputs": [
    {
     "name": "stdout",
     "output_type": "stream",
     "text": [
      "hgsvc\n",
      "Total wrong 10 Wrong stages single end: {'winner': 4, 'none': 1, 'align': 2, 'cluster': 2, 'extend': 1}\n",
      "1kg\n",
      "Total wrong 7 Wrong stages single end: {'none': 6, 'cluster': 1}\n"
     ]
    }
   ],
   "source": [
    "#  Print some of the funky reads\n",
    "def print_stages(reads, map_q):\n",
    "    stages = {}\n",
    "    total_wrong = 0\n",
    "    for i, read in enumerate(reads.reads):\n",
    "        if not read.correct and proposed_cap(read) >= map_q: # and read.stage == \"cluster\":\n",
    "            #print(\"Read {} {}\".format(i, read))\n",
    "            if read.stage not in stages:\n",
    "                stages[read.stage] = 0\n",
    "            stages[read.stage] += 1\n",
    "            total_wrong += 1\n",
    "    print(\"Total wrong\", total_wrong, \"Wrong stages single end:\", stages)\n",
    "    \n",
    "print(\"hgsvc\")\n",
    "print_stages(reads_hgsvc_small, 60)\n",
    "\n",
    "print(\"1kg\")\n",
    "print_stages(reads_1kg_small, 60)"
   ]
  },
  {
   "cell_type": "code",
   "execution_count": null,
   "metadata": {},
   "outputs": [],
   "source": []
  }
 ],
 "metadata": {
  "kernelspec": {
   "display_name": "Python 3",
   "language": "python",
   "name": "python3"
  },
  "language_info": {
   "codemirror_mode": {
    "name": "ipython",
    "version": 3
   },
   "file_extension": ".py",
   "mimetype": "text/x-python",
   "name": "python",
   "nbconvert_exporter": "python",
   "pygments_lexer": "ipython3",
   "version": "3.7.4"
  }
 },
 "nbformat": 4,
 "nbformat_minor": 4
}
