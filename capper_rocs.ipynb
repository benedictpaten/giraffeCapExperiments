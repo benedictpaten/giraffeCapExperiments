{
 "cells": [
  {
   "cell_type": "code",
   "execution_count": 1,
   "metadata": {},
   "outputs": [],
   "source": [
    "import matplotlib.pyplot as plt\n",
    "import numpy as np\n",
    "import heapq\n",
    "import logging\n",
    "import sys\n",
    "import time\n",
    "import math\n",
    "from capper import Reads\n",
    "import capper"
   ]
  },
  {
   "cell_type": "code",
   "execution_count": 2,
   "metadata": {},
   "outputs": [
    {
     "name": "stdout",
     "output_type": "stream",
     "text": [
      "Got  39668  in  44.60903286933899  seconds\n"
     ]
    }
   ],
   "source": [
    "start_time = time.time()\n",
    "# Parse the 1kg reads\n",
    "reads_1kg_small = Reads(\"minimizers_1kg_single/minimizers_correct\",\n",
    "                  \"minimizers_1kg_single/minimizers_incorrect\",\n",
    "              max_correct_reads=10000)\n",
    "print(\"Got \", len(reads_1kg_small.reads), \" in \", time.time() - start_time, \" seconds\")"
   ]
  },
  {
   "cell_type": "code",
   "execution_count": 3,
   "metadata": {},
   "outputs": [
    {
     "name": "stdout",
     "output_type": "stream",
     "text": [
      "Got  66097  in  101.92715191841125  seconds\n"
     ]
    }
   ],
   "source": [
    "start_time = time.time()\n",
    "# Parse the hgsvc reads\n",
    "reads_hgsvc_small = Reads(\"minimizers_hgsvc_single/minimizers_correct\",\n",
    "                  \"minimizers_hgsvc_single/minimizers_incorrect\",\n",
    "              max_correct_reads=10000)\n",
    "print(\"Got \", len(reads_hgsvc_small.reads), \" in \", time.time() - start_time, \" seconds\")"
   ]
  },
  {
   "cell_type": "code",
   "execution_count": 4,
   "metadata": {},
   "outputs": [],
   "source": [
    "def current_cap(r):\n",
    "    return r.capped_map_q  # round(min(r.uncapped_map_q, f(r.xian_cap), r.vg_computed_cap, 60))"
   ]
  },
  {
   "cell_type": "code",
   "execution_count": 102,
   "metadata": {
    "scrolled": true
   },
   "outputs": [
    {
     "data": {
      "image/png": "[encoded data removed]",
      "text/plain": [
       "<Figure size 432x288 with 1 Axes>"
      ]
     },
     "metadata": {
      "needs_background": "light"
     },
     "output_type": "display_data"
    },
    {
     "data": {
      "image/png": "[encoded data removed]",
      "text/plain": [
       "<Figure size 432x288 with 1 Axes>"
      ]
     },
     "metadata": {
      "needs_background": "light"
     },
     "output_type": "display_data"
    },
    {
     "name": "stdout",
     "output_type": "stream",
     "text": [
      " Took  1.4726779460906982  seconds\n"
     ]
    }
   ],
   "source": [
    "## Make the small plots\n",
    "def add_log(x, y):\n",
    "    if (x > y):\n",
    "        return x + math.log(1.0 + math.exp(y - x))\n",
    "    else:\n",
    "        return y + math.log(1.0 + math.exp(x - y))\n",
    "\n",
    "def calc_map_q(r):\n",
    "    if len(r.alignment_scores) == 0: # Case is unaligned\n",
    "        return 0.0\n",
    "    elif len(r.alignment_scores) == 1:\n",
    "        if r.alignment_scores[0] == 0.0: # Case is unaligned\n",
    "            return 0.0\n",
    "        return 10000 # Case is the only alignment\n",
    "    \n",
    "    c = 1.38333\n",
    "    def modified_alignment_score(i):\n",
    "        alignment_score = r.alignment_scores[i] * c\n",
    "        n = r.clusters[i][1][0]\n",
    "        m = r.clusters[i][1][1]\n",
    "        return alignment_score + (math.log(1 + (m - n)/n) if n < m else 0.0) \n",
    "    \n",
    "    log_sum_exp = modified_alignment_score(0)\n",
    "    for i in range(1,len(r.alignment_scores)): # Add from smallest to largest\n",
    "        log_sum_exp = add_log(log_sum_exp, modified_alignment_score(i))\n",
    "    \n",
    "    max_score = r.alignment_scores[-1] * c\n",
    "\n",
    "    if max_score == log_sum_exp:\n",
    "        return 10000\n",
    "\n",
    "    return -10 * math.log10(1.0 - math.exp(max_score - log_sum_exp))\n",
    "\n",
    "def proposed_cap(r):\n",
    "    map_q = calc_map_q(r)\n",
    "    escape_bonus = 1.0 if map_q < 10000 else 2.0    \n",
    "    return round(min(r.faster_cap_precomputed * escape_bonus, map_q, 60))\n",
    "\n",
    "def make_rocs(reads):\n",
    "    # Make ROC curves\n",
    "    roc_unmodified = reads.get_roc()\n",
    "    #print(\"Roc unmodified\", roc_unmodified)\n",
    "    roc_adam_modified = reads.get_roc(map_q_fn=current_cap)\n",
    "    #print(\"Roc adam modified \", roc_adam_modified)\n",
    "    start_time = time.time()\n",
    "    roc_new_sum_modified = reads.get_roc(map_q_fn=proposed_cap)\n",
    "    #print(\"Roc mode modified (time:{}) \".format(time.time()-start_time), roc_new_sum_modified)\n",
    "    #Reads.plot_rocs([roc_unmodified, roc_adam_modified, roc_new_sum_modified])\n",
    "    \n",
    "    Reads.plot_rocs([roc_unmodified, roc_adam_modified, roc_new_sum_modified ])\n",
    "\n",
    "start_time = time.time()\n",
    "make_rocs(reads_1kg_small)\n",
    "make_rocs(reads_hgsvc_small)\n",
    "print(\" Took \", time.time() - start_time, \" seconds\")"
   ]
  },
  {
   "cell_type": "code",
   "execution_count": null,
   "metadata": {},
   "outputs": [],
   "source": [
    "start_time = time.time()\n",
    "# Parse the hgsvc reads\n",
    "reads_hgsvc = Reads(\"minimizers_hgsvc_single/minimizers_correct\",\n",
    "                    \"minimizers_hgsvc_single/minimizers_incorrect\",\n",
    "              max_correct_reads=100000000)\n",
    "print(\"Got \", len(reads_hgsvc.reads), \" in \", time.time() - start_time, \" seconds\")"
   ]
  },
  {
   "cell_type": "code",
   "execution_count": null,
   "metadata": {
    "collapsed": true
   },
   "outputs": [],
   "source": [
    "start_time = time.time()\n",
    "# Parse the 1kg reads\n",
    "reads_1kg = Reads(\"minimizers_1kg_single/minimizers_correct\",\n",
    "                  \"minimizers_1kg_single/minimizers_incorrect\",\n",
    "              max_correct_reads=100000000)\n",
    "print(\"Got \", len(reads_1kg.reads), \" in \", time.time() - start_time, \" seconds\")"
   ]
  },
  {
   "cell_type": "code",
   "execution_count": null,
   "metadata": {
    "collapsed": true
   },
   "outputs": [],
   "source": [
    "## Make the big plots\n",
    "\n",
    "start_time = time.time()\n",
    "make_rocs(reads_1kg)\n",
    "make_rocs(reads_hgsvc)\n",
    "print(\" Took \", time.time() - start_time, \" seconds\")"
   ]
  },
  {
   "cell_type": "code",
   "execution_count": 101,
   "metadata": {},
   "outputs": [
    {
     "name": "stdout",
     "output_type": "stream",
     "text": [
      "hgsvc\n",
      "Total 10024 Total wrong 255 Wrong stages single end: {'none': 119, 'extend': 42, 'cluster': 54, 'align': 33, 'winner': 7}\n",
      "1kg\n",
      "Total 9964 Total wrong 137 Wrong stages single end: {'extend': 30, 'align': 41, 'cluster': 29, 'none': 37}\n"
     ]
    }
   ],
   "source": [
    "#  Print some of the funky reads\n",
    "def print_stages(reads, map_q):\n",
    "    stages = {}\n",
    "    total_wrong = 0\n",
    "    total = 0\n",
    "    for i, read in enumerate(reads.reads):\n",
    "        if proposed_cap(read) >= map_q: # and read.stage == \"cluster\":\n",
    "            total += 1\n",
    "            if not read.correct:\n",
    "                #print(\"Read {} {}\".format(i, read))\n",
    "                if read.stage not in stages:\n",
    "                    stages[read.stage] = 0\n",
    "                stages[read.stage] += 1\n",
    "                total_wrong += 1\n",
    "    print(\"Total\", total, \"Total wrong\", total_wrong, \"Wrong stages single end:\", stages)\n",
    "    \n",
    "print(\"hgsvc\")\n",
    "print_stages(reads_hgsvc_small, 30)\n",
    "\n",
    "print(\"1kg\")\n",
    "print_stages(reads_1kg_small, 30)"
   ]
  },
  {
   "cell_type": "code",
   "execution_count": null,
   "metadata": {},
   "outputs": [],
   "source": []
  },
  {
   "cell_type": "code",
   "execution_count": null,
   "metadata": {},
   "outputs": [],
   "source": []
  }
 ],
 "metadata": {
  "kernelspec": {
   "display_name": "Python 3",
   "language": "python",
   "name": "python3"
  },
  "language_info": {
   "codemirror_mode": {
    "name": "ipython",
    "version": 3
   },
   "file_extension": ".py",
   "mimetype": "text/x-python",
   "name": "python",
   "nbconvert_exporter": "python",
   "pygments_lexer": "ipython3",
   "version": "3.7.6"
  }
 },
 "nbformat": 4,
 "nbformat_minor": 4
}
