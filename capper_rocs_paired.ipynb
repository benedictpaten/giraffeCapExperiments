{
 "cells": [
  {
   "cell_type": "code",
   "execution_count": 1,
   "metadata": {},
   "outputs": [],
   "source": [
    "import matplotlib.pyplot as plt\n",
    "import numpy as np\n",
    "import heapq\n",
    "import logging\n",
    "import sys\n",
    "import time\n",
    "import math\n",
    "from pairedCapper import PairedReads\n",
    "import capper\n"
   ]
  },
  {
   "cell_type": "code",
   "execution_count": 3,
   "metadata": {},
   "outputs": [
    {
     "name": "stdout",
     "output_type": "stream",
     "text": [
      "Got  55640  in  103.59122705459595  seconds\n"
     ]
    }
   ],
   "source": [
    "start_time = time.time()\n",
    "# Parse the 1kg reads\n",
    "\n",
    "reads_1kg_small = PairedReads(\"minimizers_1kg_paired/minimizers_correct\",\n",
    "                              \"minimizers_1kg_paired/minimizers_incorrect\",\n",
    "                              \"minimizers_1kg_paired/minimizers_mixed\",\n",
    "                              max_correct_reads=40000)\n",
    "\n",
    "print(\"Got \", len(reads_1kg_small.reads), \" in \", time.time() - start_time, \" seconds\")"
   ]
  },
  {
   "cell_type": "code",
   "execution_count": 4,
   "metadata": {},
   "outputs": [
    {
     "name": "stdout",
     "output_type": "stream",
     "text": [
      "Got  72794  in  152.98134016990662  seconds\n"
     ]
    }
   ],
   "source": [
    "start_time = time.time()\n",
    "# Parse the hgsvc reads\n",
    "\n",
    "reads_hgsvc_small = PairedReads(\"minimizers_hgsvc_paired/minimizers_correct\",\n",
    "                                \"minimizers_hgsvc_paired/minimizers_incorrect\",\n",
    "                                \"minimizers_hgsvc_paired/minimizers_mixed\",\n",
    "                                max_correct_reads=40000)\n",
    "\n",
    "print(\"Got \", len(reads_hgsvc_small.reads), \" in \", time.time() - start_time, \" seconds\")"
   ]
  },
  {
   "cell_type": "code",
   "execution_count": 5,
   "metadata": {},
   "outputs": [],
   "source": [
    "def current_cap(r):\n",
    "    return r.capped_map_q  # round(min(r.uncapped_map_q, f(r.xian_cap), r.vg_computed_cap, 60))"
   ]
  },
  {
   "cell_type": "code",
   "execution_count": 45,
   "metadata": {
    "scrolled": false
   },
   "outputs": [
    {
     "data": {
      "image/png": "[encoded data removed]",
      "text/plain": [
       "<Figure size 432x288 with 1 Axes>"
      ]
     },
     "metadata": {
      "needs_background": "light"
     },
     "output_type": "display_data"
    },
    {
     "data": {
      "image/png": "[encoded data removed]",
      "text/plain": [
       "<Figure size 432x288 with 1 Axes>"
      ]
     },
     "metadata": {
      "needs_background": "light"
     },
     "output_type": "display_data"
    },
    {
     "name": "stdout",
     "output_type": "stream",
     "text": [
      " Took  2.1038260459899902  seconds\n"
     ]
    }
   ],
   "source": [
    "## Make the small plots\n",
    "def add_log(x, y):\n",
    "    if (x > y):\n",
    "        return x + math.log(1.0 + math.exp(y - x))\n",
    "    else:\n",
    "        return y + math.log(1.0 + math.exp(x - y))\n",
    "\n",
    "def calc_map_q(r):\n",
    "    if len(r.alignment_scores) == 0:\n",
    "        return 0.0\n",
    "   \n",
    "    c = 1.38333\n",
    "    \n",
    "    def alignment_score(a):\n",
    "        return a.score1 * c + a.score2 * c + a.log_likelihood\n",
    "    \n",
    "    def modified_alignment_score(a):\n",
    "        #m = a.equivalent_or_better_clusters # Equivalent clusters\n",
    "        #n = a.equivalent_clusters_kept # Equivalent clusters kept\n",
    "        #assert m >= n\n",
    "        assert a.multiplicity >= 0\n",
    "        k = a.multiplicity #+ (m - n)/n\n",
    "        return alignment_score(a) + (math.log(k) if k > 1 else 0.0)\n",
    "    \n",
    "    log_sum_exp = modified_alignment_score(r.alignment_scores[0]) \n",
    "    for a in r.alignment_scores[1:]: # Add from smallest to largest\n",
    "        log_sum_exp = add_log(log_sum_exp, modified_alignment_score(a))\n",
    "    \n",
    "    max_score = alignment_score(r.alignment_scores[-1])\n",
    "    \n",
    "    if max_score == log_sum_exp:\n",
    "        return capper.p_inf\n",
    "\n",
    "    return -10 * math.log10(1.0 - math.exp(max_score - log_sum_exp))\n",
    "\n",
    "def proposed_cap(r):    \n",
    "    map_q = calc_map_q(r)\n",
    "    escape_bonus = 1.0 if map_q < capper.p_inf else 2.0\n",
    "    return int(min(r.xian_cap, (r.faster_cap_precomputed + \n",
    "                                r.pair.faster_cap_precomputed) * escape_bonus, map_q, 120)/2.0)\n",
    "\n",
    "def make_rocs(reads):\n",
    "    # Make ROC curves\n",
    "    roc_unmodified = reads.get_roc()\n",
    "    #print(\"Roc unmodified\", roc_unmodified)\n",
    "    roc_adam_modified = reads.get_roc(map_q_fn=current_cap)\n",
    "    #print(\"Roc adam modified \", roc_adam_modified)\n",
    "    start_time = time.time()\n",
    "    roc_new_sum_modified = reads.get_roc(map_q_fn=proposed_cap)\n",
    "    #print(\"Roc mode modified (time:{}) \".format(time.time()-start_time), roc_new_sum_modified)\n",
    "    #Reads.plot_rocs([roc_unmodified, roc_adam_modified, roc_new_sum_modified])\n",
    "    \n",
    "    PairedReads.plot_rocs([roc_unmodified, roc_adam_modified, roc_new_sum_modified ])\n",
    "\n",
    "start_time = time.time()\n",
    "make_rocs(reads_1kg_small)\n",
    "make_rocs(reads_hgsvc_small)\n",
    "print(\" Took \", time.time() - start_time, \" seconds\")"
   ]
  },
  {
   "cell_type": "code",
   "execution_count": null,
   "metadata": {},
   "outputs": [],
   "source": [
    "start_time = time.time()\n",
    "# Parse the hgsvc reads\n",
    "reads_hgsvc = PairedReads(\"minimizers_hgsvc_paired/minimizers_correct\",\n",
    "                          \"minimizers_hgsvc_paired/minimizers_incorrect\",\n",
    "                          \"minimizers_hgsvc_paired/minimizers_mixed\")\n",
    "print(\"Got \", len(reads_hgsvc.reads), \" in \", time.time() - start_time, \" seconds\")"
   ]
  },
  {
   "cell_type": "code",
   "execution_count": 7,
   "metadata": {},
   "outputs": [
    {
     "name": "stdout",
     "output_type": "stream",
     "text": [
      "Got  2000000  in  1953.9742600917816  seconds\n"
     ]
    }
   ],
   "source": [
    "start_time = time.time()\n",
    "# Parse the 1kg reads\n",
    "reads_1kg = PairedReads(\"minimizers_1kg_paired/minimizers_correct\",\n",
    "                        \"minimizers_1kg_paired/minimizers_incorrect\",\n",
    "                        \"minimizers_1kg_paired/minimizers_mixed\")\n",
    "print(\"Got \", len(reads_1kg.reads), \" in \", time.time() - start_time, \" seconds\")"
   ]
  },
  {
   "cell_type": "code",
   "execution_count": 40,
   "metadata": {},
   "outputs": [
    {
     "data": {
      "image/png": "[encoded data removed]",
      "text/plain": [
       "<Figure size 432x288 with 1 Axes>"
      ]
     },
     "metadata": {
      "needs_background": "light"
     },
     "output_type": "display_data"
    },
    {
     "data": {
      "image/png": "[encoded data removed]",
      "text/plain": [
       "<Figure size 432x288 with 1 Axes>"
      ]
     },
     "metadata": {
      "needs_background": "light"
     },
     "output_type": "display_data"
    },
    {
     "name": "stdout",
     "output_type": "stream",
     "text": [
      " Took  130.8554928302765  seconds\n"
     ]
    }
   ],
   "source": [
    "## Make the big plots\n",
    "\n",
    "start_time = time.time()\n",
    "make_rocs(reads_1kg)\n",
    "make_rocs(reads_hgsvc)\n",
    "print(\" Took \", time.time() - start_time, \" seconds\")"
   ]
  },
  {
   "cell_type": "code",
   "execution_count": 39,
   "metadata": {},
   "outputs": [
    {
     "name": "stdout",
     "output_type": "stream",
     "text": [
      "hgsvc\n",
      "Total wrong 17 Wrong stages single end: {'cluster': 4, 'none': 7, 'extend': 4, 'winner': 2}\n",
      "1kg\n",
      "Total wrong 3 Wrong stages single end: {'cluster': 1, 'none': 2}\n"
     ]
    }
   ],
   "source": [
    "#  Print some of the funky reads\n",
    "def print_stages(reads, map_q):\n",
    "    stages = {}\n",
    "    total_wrong = 0\n",
    "    for i, read in enumerate(reads.reads):\n",
    "        if not read.correct and proposed_cap(read) >= map_q: # and read.stage == \"cluster\":\n",
    "            #print(\"Read {} {}\".format(i, read))\n",
    "            if read.stage not in stages:\n",
    "                stages[read.stage] = 0\n",
    "            stages[read.stage] += 1\n",
    "            total_wrong += 1\n",
    "    print(\"Total wrong\", total_wrong, \"Wrong stages single end:\", stages)\n",
    "    \n",
    "print(\"hgsvc\")\n",
    "print_stages(reads_hgsvc_small, 60)\n",
    "\n",
    "print(\"1kg\")\n",
    "print_stages(reads_1kg_small, 60)"
   ]
  },
  {
   "cell_type": "code",
   "execution_count": null,
   "metadata": {
    "collapsed": true
   },
   "outputs": [],
   "source": []
  }
 ],
 "metadata": {
  "kernelspec": {
   "display_name": "Python 3",
   "language": "python",
   "name": "python3"
  },
  "language_info": {
   "codemirror_mode": {
    "name": "ipython",
    "version": 3
   },
   "file_extension": ".py",
   "mimetype": "text/x-python",
   "name": "python",
   "nbconvert_exporter": "python",
   "pygments_lexer": "ipython3",
   "version": "3.7.6"
  }
 },
 "nbformat": 4,
 "nbformat_minor": 4
}
