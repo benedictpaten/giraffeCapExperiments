{
 "cells": [
  {
   "cell_type": "code",
   "execution_count": 1,
   "metadata": {
    "collapsed": true
   },
   "outputs": [],
   "source": [
    "import matplotlib.pyplot as plt\n",
    "import numpy as np\n",
    "import heapq\n",
    "import logging\n",
    "import sys\n",
    "import time\n",
    "import math\n",
    "from pairedCapper import PairedReads\n",
    "import capper\n"
   ]
  },
  {
   "cell_type": "code",
   "execution_count": 2,
   "metadata": {},
   "outputs": [
    {
     "name": "stdout",
     "output_type": "stream",
     "text": [
      "Got  55478  in  35.75157308578491  seconds\n"
     ]
    }
   ],
   "source": [
    "start_time = time.time()\n",
    "# Parse the 1kg reads\n",
    "\n",
    "reads_1kg_small = PairedReads(\"minimizers_1kg_correct_paired\",\n",
    "                              \"minimizers_1kg_incorrect_paired\",\n",
    "                              \"minimizers_1kg_mixed_paired\",\n",
    "                              max_correct_reads=40000)\n",
    "\n",
    "print(\"Got \", len(reads_1kg_small.reads), \" in \", time.time() - start_time, \" seconds\")"
   ]
  },
  {
   "cell_type": "code",
   "execution_count": 3,
   "metadata": {},
   "outputs": [
    {
     "name": "stdout",
     "output_type": "stream",
     "text": [
      "Got  72512  in  42.579188108444214  seconds\n"
     ]
    }
   ],
   "source": [
    "start_time = time.time()\n",
    "# Parse the hgsvc reads\n",
    "\n",
    "reads_hgsvc_small = PairedReads(\"minimizers_hgsvc_correct_paired\",\n",
    "                                \"minimizers_hgsvc_incorrect_paired\",\n",
    "                                \"minimizers_hgsvc_mixed_paired\",\n",
    "                                max_correct_reads=40000)\n",
    "\n",
    "print(\"Got \", len(reads_hgsvc_small.reads), \" in \", time.time() - start_time, \" seconds\")"
   ]
  },
  {
   "cell_type": "code",
   "execution_count": 4,
   "metadata": {
    "collapsed": true
   },
   "outputs": [],
   "source": [
    "def current_cap(r):\n",
    "    \"\"\"\n",
    "    if r.xian_cap != p_inf:\n",
    "        print(\"what\", r.capped_map_q, int(min(r.uncapped_map_q, r.xian_cap, r.vg_computed_cap, 60)), r.uncapped_map_q, r.xian_cap, r.vg_computed_cap)\n",
    "    if r.capped_map_q != int(min(r.uncapped_map_q, r.xian_cap, r.vg_computed_cap, 60)):\n",
    "        print(\"wait\", r.capped_map_q, int(min(r.uncapped_map_q, r.xian_cap, r.vg_computed_cap, 60)),\n",
    "                r.uncapped_map_q, r.xian_cap, r.vg_computed_cap)\n",
    "    \"\"\"\n",
    "    return r.capped_map_q  # round(min(r.uncapped_map_q, f(r.xian_cap), r.vg_computed_cap, 60))"
   ]
  },
  {
   "cell_type": "code",
   "execution_count": 18,
   "metadata": {
    "scrolled": false
   },
   "outputs": [
    {
     "data": {
      "image/png": "[encoded data removed]",
      "text/plain": [
       "<matplotlib.figure.Figure at 0x7fa9d2d456d8>"
      ]
     },
     "metadata": {},
     "output_type": "display_data"
    },
    {
     "data": {
      "image/png": "[encoded data removed]",
      "text/plain": [
       "<matplotlib.figure.Figure at 0x7fa9d2c3b630>"
      ]
     },
     "metadata": {},
     "output_type": "display_data"
    },
    {
     "name": "stdout",
     "output_type": "stream",
     "text": [
      " Took  1.006377935409546  seconds\n"
     ]
    }
   ],
   "source": [
    "## Make the small plots\n",
    "def add_log(x, y):\n",
    "    if (x > y):\n",
    "        return x + math.log(1.0 + math.exp(y - x))\n",
    "    else:\n",
    "        return y + math.log(1.0 + math.exp(x - y))\n",
    "\n",
    "\n",
    "def calc_map_q(r):\n",
    "    if len(r.alignment_scores) == 0:\n",
    "        return 0.0\n",
    "    assert(len(r.alignment_scores) > 0)\n",
    "    \n",
    "    if len(r.alignment_scores) == 1:\n",
    "        if r.alignment_scores[0] == 0.0: # Case is unaligned\n",
    "            return 0.0\n",
    "        return 10000 # Case is the only alignment\n",
    "    \n",
    "    log_sum_exp = 0.0\n",
    "    max_score = 0.0\n",
    "\n",
    "    for i in range(len(r.alignment_scores)-1, -1, -1):\n",
    "        score = r.alignment_scores[i] * 1.38333\n",
    "        if (score >= max_score):\n",
    "            max_score = score\n",
    "\n",
    "        if (r.multiplicities[i] > 1.0):\n",
    "            score += math.log(r.multiplicities[i])\n",
    "\n",
    "        log_sum_exp = add_log(log_sum_exp, score)\n",
    "\n",
    "    if len(r.alignment_scores) == 1:\n",
    "        if r.multiplicities[0] <= 1.0:\n",
    "            log_sum_exp = add_log(log_sum_exp, 0.0)\n",
    "\n",
    "    quality_scale_factor = 10.0 / math.log(10.0)\n",
    "    direct_mapq = float(\"inf\") if max_score == log_sum_exp else -quality_scale_factor * (0.0 + math.log(1.0 - math.exp( (max_score - log_sum_exp) - 0.0)))\n",
    "\n",
    "    return direct_mapq\n",
    "\n",
    "    \n",
    "def calc_map_q_old(r):\n",
    "    if len(r.alignment_scores) == 0:\n",
    "        return 0.0\n",
    "    assert(len(r.alignment_scores) > 0)\n",
    "    \n",
    "    if len(r.alignment_scores) == 1:\n",
    "        if r.alignment_scores[0] == 0.0: # Case is unaligned\n",
    "            return 0.0\n",
    "        return 10000 # Case is the only alignment\n",
    "    \n",
    "    x = max(r.alignment_scores)\n",
    "    y = r.alignment_scores[:-1]\n",
    "    s = 1.38333 #43429\n",
    "    #secondary_count = len(r.alignment_scores)-1 if len(r.alignment_scores) > 1 else 1\n",
    "    #unexplored_minimizers = r.avg_unexplored_minimizers()\n",
    "    #if unexplored_minimizers < 100:\n",
    "    #    unexplored_minimizers = 0\n",
    "    #unexplored_multiplicity = unexplored_minimizers / secondary_count #math.log10(r.avg_unexplored_minimizers() + 1)\n",
    "    \n",
    "    # Add together the alignment scores, from smallest to largest\n",
    "    p = math.exp(x * s)\n",
    "    for i in range(len(r.alignment_scores[:-1])):\n",
    "        y = r.alignment_scores[i]\n",
    "        unexplored_multiplicity = r.multiplicities[i]\n",
    "        p += math.exp(y * s) #* (1.0 + unexplored_multiplicity)\n",
    "    \n",
    "    if p == 0:\n",
    "        map_q = 10000\n",
    "        #print(map_q, r.uncapped_map_q, r.alignment_scores)\n",
    "    else:\n",
    "        z = math.exp(x * s) / p\n",
    "        map_q = (-10 * math.log10(1 - z)) if z < 1.0 else 10000\n",
    "    \n",
    "    #print(map_q, r.uncapped_map_q, r.alignment_scores)\n",
    "    \n",
    "    return map_q\n",
    "    \n",
    "def calc_map_q_pair(r):\n",
    "    \n",
    "    print(r.uncapped_map_q, r.pair.uncapped_map_q, calc_map_q(r), calc_map_q(r.pair))\n",
    "    \n",
    "    return map_q # r.uncapped_map_q\n",
    "\n",
    "def proposed_cap(r):    \n",
    "    map_q = calc_map_q(r)\n",
    "    escape_bonus = 1.0 if map_q < 10000 else 2.0\n",
    "    \n",
    "    #if r.alignment_score >= 140:\n",
    "    #    escape_bonus += 10\n",
    "    #escape_bonus = 0.0 if total_unexplored_minimizers(r) >= 10 else 20\n",
    "\n",
    "    #escape_bonus = 1.0\n",
    "    #if r.alignment_score >= 140 and (r.uncapped_map_q >= 1000 or r.avg_unexplored_minimizers() <= 100):\n",
    "    #    escape_bonus = 2.0\n",
    "\n",
    "    #assert r.xian_cap == capper.p_inf\n",
    "    \n",
    "    return int(min(r.xian_cap, (r.faster_cap_precomputed + \n",
    "                                r.pair.faster_cap_precomputed) * escape_bonus, map_q, 120)/2.0)\n",
    "    \n",
    "    #return round(min(r.faster_cap_precomputed + r.pair.faster_cap_precomputed) * escape_bonus, calc_map_q(r), 70))\n",
    "\n",
    "def make_rocs(reads):\n",
    "    # Make ROC curves\n",
    "    roc_unmodified = reads.get_roc()\n",
    "    #print(\"Roc unmodified\", roc_unmodified)\n",
    "    roc_adam_modified = reads.get_roc(map_q_fn=current_cap)\n",
    "    #print(\"Roc adam modified \", roc_adam_modified)\n",
    "    start_time = time.time()\n",
    "    roc_new_sum_modified = reads.get_roc(map_q_fn=proposed_cap)\n",
    "    #print(\"Roc mode modified (time:{}) \".format(time.time()-start_time), roc_new_sum_modified)\n",
    "    #Reads.plot_rocs([roc_unmodified, roc_adam_modified, roc_new_sum_modified])\n",
    "    \n",
    "    PairedReads.plot_rocs([roc_unmodified, roc_adam_modified, roc_new_sum_modified ])\n",
    "\n",
    "start_time = time.time()\n",
    "make_rocs(reads_1kg_small)\n",
    "make_rocs(reads_hgsvc_small)\n",
    "print(\" Took \", time.time() - start_time, \" seconds\")"
   ]
  },
  {
   "cell_type": "code",
   "execution_count": 12,
   "metadata": {},
   "outputs": [
    {
     "ename": "FileNotFoundError",
     "evalue": "[Errno 2] No such file or directory: 'minimizers_hgsvc_paired/minimizers_incorrect'",
     "output_type": "error",
     "traceback": [
      "\u001b[0;31m---------------------------------------------------------------------------\u001b[0m",
      "\u001b[0;31mFileNotFoundError\u001b[0m                         Traceback (most recent call last)",
      "\u001b[0;32m<ipython-input-12-c4581588a611>\u001b[0m in \u001b[0;36m<module>\u001b[0;34m()\u001b[0m\n\u001b[1;32m      3\u001b[0m reads_hgsvc = PairedReads(\"minimizers_hgsvc_paired/minimizers_correct\",\n\u001b[1;32m      4\u001b[0m                           \u001b[0;34m\"minimizers_hgsvc_paired/minimizers_incorrect\"\u001b[0m\u001b[0;34m,\u001b[0m\u001b[0;34m\u001b[0m\u001b[0m\n\u001b[0;32m----> 5\u001b[0;31m                           \"minimizers_hgsvc_paired/minimizers_mixed\")\n\u001b[0m\u001b[1;32m      6\u001b[0m \u001b[0mprint\u001b[0m\u001b[0;34m(\u001b[0m\u001b[0;34m\"Got \"\u001b[0m\u001b[0;34m,\u001b[0m \u001b[0mlen\u001b[0m\u001b[0;34m(\u001b[0m\u001b[0mreads_hgsvc\u001b[0m\u001b[0;34m.\u001b[0m\u001b[0mreads\u001b[0m\u001b[0;34m)\u001b[0m\u001b[0;34m,\u001b[0m \u001b[0;34m\" in \"\u001b[0m\u001b[0;34m,\u001b[0m \u001b[0mtime\u001b[0m\u001b[0;34m.\u001b[0m\u001b[0mtime\u001b[0m\u001b[0;34m(\u001b[0m\u001b[0;34m)\u001b[0m \u001b[0;34m-\u001b[0m \u001b[0mstart_time\u001b[0m\u001b[0;34m,\u001b[0m \u001b[0;34m\" seconds\"\u001b[0m\u001b[0;34m)\u001b[0m\u001b[0;34m\u001b[0m\u001b[0m\n",
      "\u001b[0;32m~/Documents/GitHub/giraffeCapExperiments/pairedCapper.py\u001b[0m in \u001b[0;36m__init__\u001b[0;34m(self, correct_reads_file, incorrect_reads_file, mixed_reads_file, max_correct_reads, max_incorrect_reads, max_mixed_reads)\u001b[0m\n\u001b[1;32m    141\u001b[0m                  max_correct_reads=-1, max_incorrect_reads=-1, max_mixed_reads=-1):\n\u001b[1;32m    142\u001b[0m         \u001b[0mself\u001b[0m\u001b[0;34m.\u001b[0m\u001b[0mreads\u001b[0m \u001b[0;34m=\u001b[0m \u001b[0mPairedRead\u001b[0m\u001b[0;34m.\u001b[0m\u001b[0mparse_reads\u001b[0m\u001b[0;34m(\u001b[0m\u001b[0mincorrect_reads_file\u001b[0m\u001b[0;34m,\u001b[0m \u001b[0;32mFalse\u001b[0m\u001b[0;34m,\u001b[0m \u001b[0mmax_reads\u001b[0m\u001b[0;34m=\u001b[0m\u001b[0mmax_incorrect_reads\u001b[0m\u001b[0;34m)\u001b[0m \u001b[0;34m+\u001b[0m\u001b[0;31m \u001b[0m\u001b[0;31m\\\u001b[0m\u001b[0;34m\u001b[0m\u001b[0m\n\u001b[0;32m--> 143\u001b[0;31m                      \u001b[0mPairedRead\u001b[0m\u001b[0;34m.\u001b[0m\u001b[0mparse_reads\u001b[0m\u001b[0;34m(\u001b[0m\u001b[0mcorrect_reads_file\u001b[0m\u001b[0;34m,\u001b[0m \u001b[0mmax_reads\u001b[0m\u001b[0;34m=\u001b[0m\u001b[0mmax_correct_reads\u001b[0m\u001b[0;34m)\u001b[0m \u001b[0;34m+\u001b[0m\u001b[0;31m \u001b[0m\u001b[0;31m\\\u001b[0m\u001b[0;34m\u001b[0m\u001b[0m\n\u001b[0m\u001b[1;32m    144\u001b[0m                      \u001b[0mPairedRead\u001b[0m\u001b[0;34m.\u001b[0m\u001b[0mparse_reads\u001b[0m\u001b[0;34m(\u001b[0m\u001b[0mmixed_reads_file\u001b[0m\u001b[0;34m,\u001b[0m \u001b[0mmixed\u001b[0m\u001b[0;34m=\u001b[0m\u001b[0;32mTrue\u001b[0m\u001b[0;34m,\u001b[0m \u001b[0mmax_reads\u001b[0m\u001b[0;34m=\u001b[0m\u001b[0mmax_mixed_reads\u001b[0m\u001b[0;34m)\u001b[0m\u001b[0;34m\u001b[0m\u001b[0m\n\u001b[1;32m    145\u001b[0m \u001b[0;34m\u001b[0m\u001b[0m\n",
      "\u001b[0;32m~/Documents/GitHub/giraffeCapExperiments/pairedCapper.py\u001b[0m in \u001b[0;36mparse_reads\u001b[0;34m(reads_file, correct, mixed, max_reads)\u001b[0m\n\u001b[1;32m    115\u001b[0m         \u001b[0mreads\u001b[0m \u001b[0;34m=\u001b[0m \u001b[0;34m[\u001b[0m\u001b[0;34m]\u001b[0m\u001b[0;34m\u001b[0m\u001b[0m\n\u001b[1;32m    116\u001b[0m         \u001b[0mpair\u001b[0m \u001b[0;34m=\u001b[0m \u001b[0;32mNone\u001b[0m\u001b[0;34m\u001b[0m\u001b[0m\n\u001b[0;32m--> 117\u001b[0;31m         \u001b[0;32mwith\u001b[0m \u001b[0mopen\u001b[0m\u001b[0;34m(\u001b[0m\u001b[0mreads_file\u001b[0m\u001b[0;34m)\u001b[0m \u001b[0;32mas\u001b[0m \u001b[0mfh\u001b[0m\u001b[0;34m:\u001b[0m\u001b[0;34m\u001b[0m\u001b[0m\n\u001b[0m\u001b[1;32m    118\u001b[0m             \u001b[0;32mfor\u001b[0m \u001b[0mline\u001b[0m \u001b[0;32min\u001b[0m \u001b[0mfh\u001b[0m\u001b[0;34m:\u001b[0m\u001b[0;34m\u001b[0m\u001b[0m\n\u001b[1;32m    119\u001b[0m                 \u001b[0;32mif\u001b[0m \u001b[0mmixed\u001b[0m\u001b[0;34m:\u001b[0m  \u001b[0;31m# Deal with read pairs where one is correctly\u001b[0m\u001b[0;34m\u001b[0m\u001b[0m\n",
      "\u001b[0;31mFileNotFoundError\u001b[0m: [Errno 2] No such file or directory: 'minimizers_hgsvc_paired/minimizers_incorrect'"
     ]
    }
   ],
   "source": [
    "start_time = time.time()\n",
    "# Parse the hgsvc reads\n",
    "reads_hgsvc = PairedReads(\"minimizers_hgsvc_paired/minimizers_correct\",\n",
    "                          \"minimizers_hgsvc_paired/minimizers_incorrect\",\n",
    "                          \"minimizers_hgsvc_paired/minimizers_mixed\")\n",
    "print(\"Got \", len(reads_hgsvc.reads), \" in \", time.time() - start_time, \" seconds\")"
   ]
  },
  {
   "cell_type": "code",
   "execution_count": 7,
   "metadata": {},
   "outputs": [
    {
     "name": "stdout",
     "output_type": "stream",
     "text": [
      "Got  2000000  in  1953.9742600917816  seconds\n"
     ]
    }
   ],
   "source": [
    "start_time = time.time()\n",
    "# Parse the 1kg reads\n",
    "reads_1kg = PairedReads(\"minimizers_1kg_paired/minimizers_correct\",\n",
    "                        \"minimizers_1kg_paired/minimizers_incorrect\",\n",
    "                        \"minimizers_1kg_paired/minimizers_mixed\")\n",
    "print(\"Got \", len(reads_1kg.reads), \" in \", time.time() - start_time, \" seconds\")"
   ]
  },
  {
   "cell_type": "code",
   "execution_count": 40,
   "metadata": {},
   "outputs": [
    {
     "data": {
      "image/png": "[encoded data removed]",
      "text/plain": [
       "<Figure size 432x288 with 1 Axes>"
      ]
     },
     "metadata": {
      "needs_background": "light"
     },
     "output_type": "display_data"
    },
    {
     "data": {
      "image/png": "[encoded data removed]",
      "text/plain": [
       "<Figure size 432x288 with 1 Axes>"
      ]
     },
     "metadata": {
      "needs_background": "light"
     },
     "output_type": "display_data"
    },
    {
     "name": "stdout",
     "output_type": "stream",
     "text": [
      " Took  130.8554928302765  seconds\n"
     ]
    }
   ],
   "source": [
    "## Make the big plots\n",
    "\n",
    "start_time = time.time()\n",
    "make_rocs(reads_1kg)\n",
    "make_rocs(reads_hgsvc)\n",
    "print(\" Took \", time.time() - start_time, \" seconds\")"
   ]
  },
  {
   "cell_type": "code",
   "execution_count": 39,
   "metadata": {},
   "outputs": [
    {
     "name": "stdout",
     "output_type": "stream",
     "text": [
      "hgsvc\n",
      "Total wrong 17 Wrong stages single end: {'cluster': 4, 'none': 7, 'extend': 4, 'winner': 2}\n",
      "1kg\n",
      "Total wrong 3 Wrong stages single end: {'cluster': 1, 'none': 2}\n"
     ]
    }
   ],
   "source": [
    "#  Print some of the funky reads\n",
    "def print_stages(reads, map_q):\n",
    "    stages = {}\n",
    "    total_wrong = 0\n",
    "    for i, read in enumerate(reads.reads):\n",
    "        if not read.correct and proposed_cap(read) >= map_q: # and read.stage == \"cluster\":\n",
    "            #print(\"Read {} {}\".format(i, read))\n",
    "            if read.stage not in stages:\n",
    "                stages[read.stage] = 0\n",
    "            stages[read.stage] += 1\n",
    "            total_wrong += 1\n",
    "    print(\"Total wrong\", total_wrong, \"Wrong stages single end:\", stages)\n",
    "    \n",
    "print(\"hgsvc\")\n",
    "print_stages(reads_hgsvc_small, 60)\n",
    "\n",
    "print(\"1kg\")\n",
    "print_stages(reads_1kg_small, 60)"
   ]
  },
  {
   "cell_type": "code",
   "execution_count": null,
   "metadata": {
    "collapsed": true
   },
   "outputs": [],
   "source": []
  }
 ],
 "metadata": {
  "kernelspec": {
   "display_name": "Python 3",
   "language": "python",
   "name": "python3"
  },
  "language_info": {
   "codemirror_mode": {
    "name": "ipython",
    "version": 3
   },
   "file_extension": ".py",
   "mimetype": "text/x-python",
   "name": "python",
   "nbconvert_exporter": "python",
   "pygments_lexer": "ipython3",
   "version": "3.7.6"
  }
 },
 "nbformat": 4,
 "nbformat_minor": 4
}
